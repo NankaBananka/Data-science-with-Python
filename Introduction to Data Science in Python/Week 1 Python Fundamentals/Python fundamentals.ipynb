{
 "cells": [
  {
   "cell_type": "code",
   "execution_count": 46,
   "metadata": {
    "collapsed": true
   },
   "outputs": [],
   "source": [
    "from IPython.core.interactiveshell import InteractiveShell\n",
    "InteractiveShell.ast_node_interactivity = \"all\""
   ]
  },
  {
   "cell_type": "markdown",
   "metadata": {},
   "source": [
    "# Functions\n",
    "\n",
    "## Defining a function\n",
    "\n",
    "Functions allow to save and use pieces of code repeatedly.\n",
    "Functions begin with the word 'def' and name of function. In parentheses you can put parameters or arguments. After defining name and arguments of function goes colon after which on the next row code block begins.\n",
    "In the first row it is possible to write optional docstring in triple quotes ('''docstring''') which consists information about function."
   ]
  },
  {
   "cell_type": "code",
   "execution_count": 47,
   "metadata": {
    "collapsed": false
   },
   "outputs": [
    {
     "data": {
      "text/plain": [
       "15"
      ]
     },
     "execution_count": 47,
     "metadata": {},
     "output_type": "execute_result"
    }
   ],
   "source": [
    "def add5 (x):\n",
    "    '''This function adds 5 to any number and returns the result'''\n",
    "    return x + 5\n",
    "add5(10)"
   ]
  },
  {
   "cell_type": "markdown",
   "metadata": {},
   "source": [
    "## Arguments\n",
    "* Normal (required) argument\n",
    "* Keyword argument\n",
    "*  Default argument\n",
    "* Variable-length arguments"
   ]
  },
  {
   "cell_type": "markdown",
   "metadata": {},
   "source": [
    "#### Normal (required) arguments\n",
    "\n",
    "Argument which you put in normal order while calling a function. Number and order of arguments should be the same as in function definition."
   ]
  },
  {
   "cell_type": "code",
   "execution_count": 48,
   "metadata": {
    "collapsed": false
   },
   "outputs": [
    {
     "name": "stdout",
     "output_type": "stream",
     "text": [
      "Name: Bob\n",
      "Age: 15\n"
     ]
    }
   ],
   "source": [
    "def printinfo(name, age):\n",
    "    '''This function prints info passed into this function'''\n",
    "    print(\"Name:\", name)\n",
    "    print(\"Age:\", age)\n",
    "    return\n",
    "\n",
    "printinfo(\"Bob\", 15)"
   ]
  },
  {
   "cell_type": "markdown",
   "metadata": {},
   "source": [
    "This one will return a mistake:"
   ]
  },
  {
   "cell_type": "code",
   "execution_count": 49,
   "metadata": {
    "collapsed": false
   },
   "outputs": [
    {
     "ename": "TypeError",
     "evalue": "printinfo() missing 1 required positional argument: 'age'",
     "output_type": "error",
     "traceback": [
      "\u001b[0;31m---------------------------------------------------------------------------\u001b[0m",
      "\u001b[0;31mTypeError\u001b[0m                                 Traceback (most recent call last)",
      "\u001b[0;32m<ipython-input-49-6c84ed753981>\u001b[0m in \u001b[0;36m<module>\u001b[0;34m()\u001b[0m\n\u001b[0;32m----> 1\u001b[0;31m \u001b[0mprintinfo\u001b[0m\u001b[0;34m(\u001b[0m\u001b[0;36m15\u001b[0m\u001b[0;34m)\u001b[0m\u001b[0;34m\u001b[0m\u001b[0m\n\u001b[0m",
      "\u001b[0;31mTypeError\u001b[0m: printinfo() missing 1 required positional argument: 'age'"
     ]
    }
   ],
   "source": [
    "printinfo(15)"
   ]
  },
  {
   "cell_type": "markdown",
   "metadata": {},
   "source": [
    "This one will return result in wrong order:"
   ]
  },
  {
   "cell_type": "code",
   "execution_count": 50,
   "metadata": {
    "collapsed": false
   },
   "outputs": [
    {
     "name": "stdout",
     "output_type": "stream",
     "text": [
      "Name: 15\n",
      "Age: Bob\n"
     ]
    }
   ],
   "source": [
    "printinfo(15, \"Bob\")"
   ]
  },
  {
   "cell_type": "markdown",
   "metadata": {},
   "source": [
    "#### Keyword arguments\n",
    "\n",
    "We can use keyword argument in order to put them out of order or ease documentating of code. Keywords related to function calls. The caller identify arguments by their name when you call a function using keyword arguments."
   ]
  },
  {
   "cell_type": "code",
   "execution_count": 51,
   "metadata": {
    "collapsed": false
   },
   "outputs": [
    {
     "name": "stdout",
     "output_type": "stream",
     "text": [
      "Name:  Theo\n",
      "Age:  10\n",
      "Name:  Bob\n",
      "Age:  80\n"
     ]
    }
   ],
   "source": [
    "def printinfo(name, age):\n",
    "    '''This function prints info passed into this function'''\n",
    "    print(\"Name: \", name)\n",
    "    print(\"Age: \", age)\n",
    "    return;\n",
    "\n",
    "printinfo(age=10, name=\"Theo\")\n",
    "printinfo(name=\"Bob\", age=80)"
   ]
  },
  {
   "cell_type": "markdown",
   "metadata": {},
   "source": [
    "#### Default arguments\n",
    "\n",
    "Default argument is an arguments that takes default value (which we passed while defining a function) if while calling a function we didn't pass any value to it."
   ]
  },
  {
   "cell_type": "code",
   "execution_count": 52,
   "metadata": {
    "collapsed": false
   },
   "outputs": [
    {
     "name": "stdout",
     "output_type": "stream",
     "text": [
      "Name:  Bob\n",
      "Age:  None\n",
      "\n",
      "\n",
      "Name:  Theo\n",
      "Age:  18\n"
     ]
    }
   ],
   "source": [
    "def printinfo(name, age=None):\n",
    "    '''This function prints info passed into this function'''\n",
    "    print(\"Name: \", name)\n",
    "    print(\"Age: \", age)\n",
    "    return;\n",
    "\n",
    "printinfo(name=\"Bob\")\n",
    "print(\"\\n\")\n",
    "printinfo(name=\"Theo\", age=18)"
   ]
  },
  {
   "cell_type": "markdown",
   "metadata": {},
   "source": [
    "#### Variable-length arguments\n",
    "Variable-length arguments allow to use any number of argument in function. Can appear in either function definition or a function call."
   ]
  },
  {
   "cell_type": "markdown",
   "metadata": {},
   "source": [
    "##### Defining function with multiply arguments"
   ]
  },
  {
   "cell_type": "code",
   "execution_count": 53,
   "metadata": {
    "collapsed": false
   },
   "outputs": [
    {
     "name": "stdout",
     "output_type": "stream",
     "text": [
      "1\n",
      "2\n",
      "3\n",
      "\n",
      "\n",
      "1\n",
      "apple\n",
      "None\n"
     ]
    }
   ],
   "source": [
    "def printargs(*args):\n",
    "    '''Function prints all arguments'''\n",
    "    sum = 0\n",
    "    for i in args:\n",
    "        print(i)\n",
    "    return\n",
    "\n",
    "printargs(1, 2, 3)\n",
    "print(\"\\n\")\n",
    "printargs(1, \"apple\", None)"
   ]
  },
  {
   "cell_type": "markdown",
   "metadata": {},
   "source": [
    "##### Calling function with multiply arguments"
   ]
  },
  {
   "cell_type": "code",
   "execution_count": 55,
   "metadata": {
    "collapsed": false
   },
   "outputs": [
    {
     "name": "stdout",
     "output_type": "stream",
     "text": [
      "toast bacon 1 2\n",
      "1 2 spam eggs\n"
     ]
    }
   ],
   "source": [
    "def printeverything(a, b, c, d):\n",
    "    '''Function prints 4 arguments'''\n",
    "    print(a, b, c, d)\n",
    "    return\n",
    "\n",
    "args = (1, 2)\n",
    "printeverything(\"toast\", \"bacon\", *args)\n",
    "\n",
    "args += ('spam', 'eggs')\n",
    "printeverything(*args)"
   ]
  },
  {
   "cell_type": "code",
   "execution_count": null,
   "metadata": {
    "collapsed": true
   },
   "outputs": [],
   "source": []
  }
 ],
 "metadata": {
  "kernelspec": {
   "display_name": "Python 3",
   "language": "python",
   "name": "python3"
  },
  "language_info": {
   "codemirror_mode": {
    "name": "ipython",
    "version": 3
   },
   "file_extension": ".py",
   "mimetype": "text/x-python",
   "name": "python",
   "nbconvert_exporter": "python",
   "pygments_lexer": "ipython3",
   "version": "3.6.0"
  }
 },
 "nbformat": 4,
 "nbformat_minor": 2
}
