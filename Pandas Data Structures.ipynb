{
 "cells": [
  {
   "cell_type": "markdown",
   "metadata": {},
   "source": [
    "# Series"
   ]
  },
  {
   "cell_type": "code",
   "execution_count": 1,
   "metadata": {
    "collapsed": true
   },
   "outputs": [],
   "source": [
    "import pandas as pd"
   ]
  },
  {
   "cell_type": "code",
   "execution_count": 2,
   "metadata": {
    "collapsed": false
   },
   "outputs": [
    {
     "name": "stdout",
     "output_type": "stream",
     "text": [
      "Introduction to Data Science in Python\n",
      "NumPy Fundamentals.ipynb\n",
      "Pandas Data Structures.ipynb\n",
      "Pandas Fundamentals.ipynb\n",
      "README.md\n",
      "Working with Missing Data.ipynb\n",
      "fandango_score_comparison.csv\n",
      "food_info.csv\n",
      "titanic_survival.csv\n",
      "world_alcohol.csv\n"
     ]
    }
   ],
   "source": [
    "%%bash\n",
    "ls"
   ]
  },
  {
   "cell_type": "code",
   "execution_count": 3,
   "metadata": {
    "collapsed": false
   },
   "outputs": [
    {
     "data": {
      "text/html": [
       "<div>\n",
       "<table border=\"1\" class=\"dataframe\">\n",
       "  <thead>\n",
       "    <tr style=\"text-align: right;\">\n",
       "      <th></th>\n",
       "      <th>FILM</th>\n",
       "      <th>RottenTomatoes</th>\n",
       "      <th>RottenTomatoes_User</th>\n",
       "      <th>Metacritic</th>\n",
       "      <th>Metacritic_User</th>\n",
       "      <th>IMDB</th>\n",
       "      <th>Fandango_Stars</th>\n",
       "      <th>Fandango_Ratingvalue</th>\n",
       "      <th>RT_norm</th>\n",
       "      <th>RT_user_norm</th>\n",
       "      <th>...</th>\n",
       "      <th>IMDB_norm</th>\n",
       "      <th>RT_norm_round</th>\n",
       "      <th>RT_user_norm_round</th>\n",
       "      <th>Metacritic_norm_round</th>\n",
       "      <th>Metacritic_user_norm_round</th>\n",
       "      <th>IMDB_norm_round</th>\n",
       "      <th>Metacritic_user_vote_count</th>\n",
       "      <th>IMDB_user_vote_count</th>\n",
       "      <th>Fandango_votes</th>\n",
       "      <th>Fandango_Difference</th>\n",
       "    </tr>\n",
       "  </thead>\n",
       "  <tbody>\n",
       "    <tr>\n",
       "      <th>0</th>\n",
       "      <td>Avengers: Age of Ultron (2015)</td>\n",
       "      <td>74</td>\n",
       "      <td>86</td>\n",
       "      <td>66</td>\n",
       "      <td>7.1</td>\n",
       "      <td>7.8</td>\n",
       "      <td>5.0</td>\n",
       "      <td>4.5</td>\n",
       "      <td>3.70</td>\n",
       "      <td>4.3</td>\n",
       "      <td>...</td>\n",
       "      <td>3.90</td>\n",
       "      <td>3.5</td>\n",
       "      <td>4.5</td>\n",
       "      <td>3.5</td>\n",
       "      <td>3.5</td>\n",
       "      <td>4.0</td>\n",
       "      <td>1330</td>\n",
       "      <td>271107</td>\n",
       "      <td>14846</td>\n",
       "      <td>0.5</td>\n",
       "    </tr>\n",
       "    <tr>\n",
       "      <th>1</th>\n",
       "      <td>Cinderella (2015)</td>\n",
       "      <td>85</td>\n",
       "      <td>80</td>\n",
       "      <td>67</td>\n",
       "      <td>7.5</td>\n",
       "      <td>7.1</td>\n",
       "      <td>5.0</td>\n",
       "      <td>4.5</td>\n",
       "      <td>4.25</td>\n",
       "      <td>4.0</td>\n",
       "      <td>...</td>\n",
       "      <td>3.55</td>\n",
       "      <td>4.5</td>\n",
       "      <td>4.0</td>\n",
       "      <td>3.5</td>\n",
       "      <td>4.0</td>\n",
       "      <td>3.5</td>\n",
       "      <td>249</td>\n",
       "      <td>65709</td>\n",
       "      <td>12640</td>\n",
       "      <td>0.5</td>\n",
       "    </tr>\n",
       "    <tr>\n",
       "      <th>2</th>\n",
       "      <td>Ant-Man (2015)</td>\n",
       "      <td>80</td>\n",
       "      <td>90</td>\n",
       "      <td>64</td>\n",
       "      <td>8.1</td>\n",
       "      <td>7.8</td>\n",
       "      <td>5.0</td>\n",
       "      <td>4.5</td>\n",
       "      <td>4.00</td>\n",
       "      <td>4.5</td>\n",
       "      <td>...</td>\n",
       "      <td>3.90</td>\n",
       "      <td>4.0</td>\n",
       "      <td>4.5</td>\n",
       "      <td>3.0</td>\n",
       "      <td>4.0</td>\n",
       "      <td>4.0</td>\n",
       "      <td>627</td>\n",
       "      <td>103660</td>\n",
       "      <td>12055</td>\n",
       "      <td>0.5</td>\n",
       "    </tr>\n",
       "    <tr>\n",
       "      <th>3</th>\n",
       "      <td>Do You Believe? (2015)</td>\n",
       "      <td>18</td>\n",
       "      <td>84</td>\n",
       "      <td>22</td>\n",
       "      <td>4.7</td>\n",
       "      <td>5.4</td>\n",
       "      <td>5.0</td>\n",
       "      <td>4.5</td>\n",
       "      <td>0.90</td>\n",
       "      <td>4.2</td>\n",
       "      <td>...</td>\n",
       "      <td>2.70</td>\n",
       "      <td>1.0</td>\n",
       "      <td>4.0</td>\n",
       "      <td>1.0</td>\n",
       "      <td>2.5</td>\n",
       "      <td>2.5</td>\n",
       "      <td>31</td>\n",
       "      <td>3136</td>\n",
       "      <td>1793</td>\n",
       "      <td>0.5</td>\n",
       "    </tr>\n",
       "    <tr>\n",
       "      <th>4</th>\n",
       "      <td>Hot Tub Time Machine 2 (2015)</td>\n",
       "      <td>14</td>\n",
       "      <td>28</td>\n",
       "      <td>29</td>\n",
       "      <td>3.4</td>\n",
       "      <td>5.1</td>\n",
       "      <td>3.5</td>\n",
       "      <td>3.0</td>\n",
       "      <td>0.70</td>\n",
       "      <td>1.4</td>\n",
       "      <td>...</td>\n",
       "      <td>2.55</td>\n",
       "      <td>0.5</td>\n",
       "      <td>1.5</td>\n",
       "      <td>1.5</td>\n",
       "      <td>1.5</td>\n",
       "      <td>2.5</td>\n",
       "      <td>88</td>\n",
       "      <td>19560</td>\n",
       "      <td>1021</td>\n",
       "      <td>0.5</td>\n",
       "    </tr>\n",
       "  </tbody>\n",
       "</table>\n",
       "<p>5 rows × 22 columns</p>\n",
       "</div>"
      ],
      "text/plain": [
       "                             FILM  RottenTomatoes  RottenTomatoes_User  \\\n",
       "0  Avengers: Age of Ultron (2015)              74                   86   \n",
       "1               Cinderella (2015)              85                   80   \n",
       "2                  Ant-Man (2015)              80                   90   \n",
       "3          Do You Believe? (2015)              18                   84   \n",
       "4   Hot Tub Time Machine 2 (2015)              14                   28   \n",
       "\n",
       "   Metacritic  Metacritic_User  IMDB  Fandango_Stars  Fandango_Ratingvalue  \\\n",
       "0          66              7.1   7.8             5.0                   4.5   \n",
       "1          67              7.5   7.1             5.0                   4.5   \n",
       "2          64              8.1   7.8             5.0                   4.5   \n",
       "3          22              4.7   5.4             5.0                   4.5   \n",
       "4          29              3.4   5.1             3.5                   3.0   \n",
       "\n",
       "   RT_norm  RT_user_norm         ...           IMDB_norm  RT_norm_round  \\\n",
       "0     3.70           4.3         ...                3.90            3.5   \n",
       "1     4.25           4.0         ...                3.55            4.5   \n",
       "2     4.00           4.5         ...                3.90            4.0   \n",
       "3     0.90           4.2         ...                2.70            1.0   \n",
       "4     0.70           1.4         ...                2.55            0.5   \n",
       "\n",
       "   RT_user_norm_round  Metacritic_norm_round  Metacritic_user_norm_round  \\\n",
       "0                 4.5                    3.5                         3.5   \n",
       "1                 4.0                    3.5                         4.0   \n",
       "2                 4.5                    3.0                         4.0   \n",
       "3                 4.0                    1.0                         2.5   \n",
       "4                 1.5                    1.5                         1.5   \n",
       "\n",
       "   IMDB_norm_round  Metacritic_user_vote_count  IMDB_user_vote_count  \\\n",
       "0              4.0                        1330                271107   \n",
       "1              3.5                         249                 65709   \n",
       "2              4.0                         627                103660   \n",
       "3              2.5                          31                  3136   \n",
       "4              2.5                          88                 19560   \n",
       "\n",
       "   Fandango_votes  Fandango_Difference  \n",
       "0           14846                  0.5  \n",
       "1           12640                  0.5  \n",
       "2           12055                  0.5  \n",
       "3            1793                  0.5  \n",
       "4            1021                  0.5  \n",
       "\n",
       "[5 rows x 22 columns]"
      ]
     },
     "execution_count": 3,
     "metadata": {},
     "output_type": "execute_result"
    }
   ],
   "source": [
    "fandango_df = pd.read_csv(\"fandango_score_comparison.csv\")\n",
    "fandango_df.head()"
   ]
  },
  {
   "cell_type": "markdown",
   "metadata": {},
   "source": [
    "DataFrames use Series objects to represent columns. When we select a single column from a DataFrame, pandas will return the Series object representing that column. By default, pandas indexes each individual Series object in a DataFrame with the integer data type. Each value in the Series has a unique integer index, or position. Like most Python data structures, the Series object uses 0-indexing. The indexing ranges from `0` to `n-1`, where n is the number of rows. We can use an integer index to select an individual value in a Series if we know its position. "
   ]
  },
  {
   "cell_type": "code",
   "execution_count": 4,
   "metadata": {
    "collapsed": false
   },
   "outputs": [
    {
     "name": "stdout",
     "output_type": "stream",
     "text": [
      "<class 'pandas.core.series.Series'> \n",
      " 0    Avengers: Age of Ultron (2015)\n",
      "1                 Cinderella (2015)\n",
      "2                    Ant-Man (2015)\n",
      "3            Do You Believe? (2015)\n",
      "4     Hot Tub Time Machine 2 (2015)\n",
      "Name: FILM, dtype: object\n",
      "<class 'pandas.core.series.Series'> \n",
      " 0    74\n",
      "1    85\n",
      "2    80\n",
      "3    18\n",
      "4    14\n",
      "Name: RottenTomatoes, dtype: int64\n"
     ]
    }
   ],
   "source": [
    "series_film = fandango_df[\"FILM\"]\n",
    "print(type(series_film),\"\\n\", series_film.head())\n",
    "\n",
    "series_rt = fandango_df[\"RottenTomatoes\"]\n",
    "print(type(series_rt),\"\\n\", series_rt.head())"
   ]
  },
  {
   "cell_type": "markdown",
   "metadata": {},
   "source": [
    "It is possible to make `Series` objects with customized indexes\n",
    "\n",
    "http://pandas.pydata.org/pandas-docs/stable/generated/pandas.Series.html#pandas.Series"
   ]
  },
  {
   "cell_type": "code",
   "execution_count": 5,
   "metadata": {
    "collapsed": false
   },
   "outputs": [
    {
     "data": {
      "text/plain": [
       "Avengers: Age of Ultron (2015)    74\n",
       "Cinderella (2015)                 85\n",
       "Ant-Man (2015)                    80\n",
       "Do You Believe? (2015)            18\n",
       "Hot Tub Time Machine 2 (2015)     14\n",
       "dtype: int64"
      ]
     },
     "execution_count": 5,
     "metadata": {},
     "output_type": "execute_result"
    }
   ],
   "source": [
    "film_names = series_film.values\n",
    "rt_scores = series_rt.values\n",
    "\n",
    "series_custom = pd.Series(rt_scores, index=film_names)\n",
    "series_custom.head()"
   ]
  },
  {
   "cell_type": "markdown",
   "metadata": {},
   "source": [
    "It is possible to access values by labels and by indexes."
   ]
  },
  {
   "cell_type": "code",
   "execution_count": 6,
   "metadata": {
    "collapsed": false
   },
   "outputs": [
    {
     "name": "stdout",
     "output_type": "stream",
     "text": [
      "Minions (2015)      54\n",
      "Leviathan (2014)    99\n",
      "dtype: int64\n",
      "The Water Diviner (2015)             63\n",
      "Irrational Man (2015)                42\n",
      "Top Five (2014)                      86\n",
      "Shaun the Sheep Movie (2015)         99\n",
      "Love & Mercy (2015)                  89\n",
      "Far From The Madding Crowd (2015)    84\n",
      "dtype: int64\n"
     ]
    }
   ],
   "source": [
    "print(series_custom[['Minions (2015)', 'Leviathan (2014)']])\n",
    "print(series_custom[5:11])"
   ]
  },
  {
   "cell_type": "markdown",
   "metadata": {},
   "source": [
    "### Reindexing"
   ]
  },
  {
   "cell_type": "markdown",
   "metadata": {},
   "source": [
    "http://pandas.pydata.org/pandas-docs/version/0.17.0/generated/pandas.Series.reindex.html"
   ]
  },
  {
   "cell_type": "markdown",
   "metadata": {},
   "source": [
    "It is possible to use `reindex()` for sorting values:"
   ]
  },
  {
   "cell_type": "code",
   "execution_count": 7,
   "metadata": {
    "collapsed": false
   },
   "outputs": [
    {
     "data": {
      "text/plain": [
       "'71 (2015)                    97\n",
       "5 Flights Up (2015)           52\n",
       "A Little Chaos (2015)         40\n",
       "A Most Violent Year (2014)    90\n",
       "About Elly (2015)             97\n",
       "dtype: int64"
      ]
     },
     "execution_count": 7,
     "metadata": {},
     "output_type": "execute_result"
    }
   ],
   "source": [
    "original_index = series_custom.index\n",
    "\n",
    "original_index = sorted(original_index)\n",
    "sorted_by_index = series_custom.reindex(original_index)\n",
    "\n",
    "sorted_by_index.head()"
   ]
  },
  {
   "cell_type": "markdown",
   "metadata": {},
   "source": []
  },
  {
   "cell_type": "markdown",
   "metadata": {},
   "source": [
    "But there are more convinient ways for sorting data in `Series` object"
   ]
  },
  {
   "cell_type": "code",
   "execution_count": 8,
   "metadata": {
    "collapsed": false
   },
   "outputs": [
    {
     "name": "stdout",
     "output_type": "stream",
     "text": [
      "'71 (2015)                    97\n",
      "5 Flights Up (2015)           52\n",
      "A Little Chaos (2015)         40\n",
      "A Most Violent Year (2014)    90\n",
      "About Elly (2015)             97\n",
      "Aloha (2015)                  19\n",
      "American Sniper (2015)        72\n",
      "American Ultra (2015)         46\n",
      "Amy (2015)                    97\n",
      "Annie (2014)                  27\n",
      "dtype: int64 \n",
      "\n",
      "Paul Blart: Mall Cop 2 (2015)     5\n",
      "Hitman: Agent 47 (2015)           7\n",
      "Hot Pursuit (2015)                8\n",
      "Fantastic Four (2015)             9\n",
      "Taken 3 (2015)                    9\n",
      "The Boy Next Door (2015)         10\n",
      "The Loft (2015)                  11\n",
      "Unfinished Business (2015)       11\n",
      "Mortdecai (2015)                 12\n",
      "Seventh Son (2015)               12\n",
      "dtype: int64\n"
     ]
    }
   ],
   "source": [
    "sc2 = series_custom.sort_index()\n",
    "sc3 = series_custom.sort_values()\n",
    "\n",
    "print(sc2.head(10),\"\\n\")\n",
    "print(sc3.head(10))"
   ]
  },
  {
   "cell_type": "markdown",
   "metadata": {},
   "source": [
    "### Filtering"
   ]
  },
  {
   "cell_type": "code",
   "execution_count": 9,
   "metadata": {
    "collapsed": false
   },
   "outputs": [
    {
     "data": {
      "text/plain": [
       "Avengers: Age of Ultron (2015)                    False\n",
       "Cinderella (2015)                                 False\n",
       "Ant-Man (2015)                                    False\n",
       "Do You Believe? (2015)                            False\n",
       "Hot Tub Time Machine 2 (2015)                     False\n",
       "The Water Diviner (2015)                          False\n",
       "Irrational Man (2015)                             False\n",
       "Top Five (2014)                                   False\n",
       "Shaun the Sheep Movie (2015)                       True\n",
       "Love & Mercy (2015)                               False\n",
       "Far From The Madding Crowd (2015)                 False\n",
       "Black Sea (2015)                                  False\n",
       "Leviathan (2014)                                   True\n",
       "Unbroken (2014)                                   False\n",
       "The Imitation Game (2014)                         False\n",
       "Taken 3 (2015)                                    False\n",
       "Ted 2 (2015)                                      False\n",
       "Southpaw (2015)                                   False\n",
       "Night at the Museum: Secret of the Tomb (2014)    False\n",
       "Pixels (2015)                                     False\n",
       "McFarland, USA (2015)                             False\n",
       "Insidious: Chapter 3 (2015)                       False\n",
       "The Man From U.N.C.L.E. (2015)                    False\n",
       "Run All Night (2015)                              False\n",
       "Trainwreck (2015)                                 False\n",
       "Selma (2014)                                       True\n",
       "Ex Machina (2015)                                  True\n",
       "Still Alice (2015)                                False\n",
       "Wild Tales (2014)                                  True\n",
       "The End of the Tour (2015)                         True\n",
       "                                                  ...  \n",
       "Clouds of Sils Maria (2015)                       False\n",
       "Testament of Youth (2015)                         False\n",
       "Infinitely Polar Bear (2015)                      False\n",
       "Phoenix (2015)                                     True\n",
       "The Wolfpack (2015)                               False\n",
       "The Stanford Prison Experiment (2015)             False\n",
       "Tangerine (2015)                                   True\n",
       "Magic Mike XXL (2015)                             False\n",
       "Home (2015)                                       False\n",
       "The Wedding Ringer (2015)                         False\n",
       "Woman in Gold (2015)                              False\n",
       "The Last Five Years (2015)                        False\n",
       "Mission: Impossible â€“ Rogue Nation (2015)        True\n",
       "Amy (2015)                                         True\n",
       "Jurassic World (2015)                             False\n",
       "Minions (2015)                                    False\n",
       "Max (2015)                                        False\n",
       "Paul Blart: Mall Cop 2 (2015)                     False\n",
       "The Longest Ride (2015)                           False\n",
       "The Lazarus Effect (2015)                         False\n",
       "The Woman In Black 2 Angel of Death (2015)        False\n",
       "Danny Collins (2015)                              False\n",
       "Spare Parts (2015)                                False\n",
       "Serena (2015)                                     False\n",
       "Inside Out (2015)                                  True\n",
       "Mr. Holmes (2015)                                 False\n",
       "'71 (2015)                                         True\n",
       "Two Days, One Night (2014)                         True\n",
       "Gett: The Trial of Viviane Amsalem (2015)          True\n",
       "Kumiko, The Treasure Hunter (2015)                False\n",
       "dtype: bool"
      ]
     },
     "execution_count": 9,
     "metadata": {},
     "output_type": "execute_result"
    }
   ],
   "source": [
    "series_custom > 90"
   ]
  },
  {
   "cell_type": "code",
   "execution_count": 10,
   "metadata": {
    "collapsed": false
   },
   "outputs": [
    {
     "data": {
      "text/plain": [
       "Shaun the Sheep Movie (2015)                    99\n",
       "Leviathan (2014)                                99\n",
       "Selma (2014)                                    99\n",
       "Ex Machina (2015)                               92\n",
       "Wild Tales (2014)                               96\n",
       "The End of the Tour (2015)                      92\n",
       "Red Army (2015)                                 96\n",
       "The Hunting Ground (2015)                       92\n",
       "I'll See You In My Dreams (2015)                94\n",
       "Timbuktu (2015)                                 99\n",
       "About Elly (2015)                               97\n",
       "The Diary of a Teenage Girl (2015)              95\n",
       "Birdman (2014)                                  92\n",
       "The Gift (2015)                                 93\n",
       "Monkey Kingdom (2015)                           94\n",
       "Mr. Turner (2014)                               98\n",
       "Seymour: An Introduction (2015)                100\n",
       "The Wrecking Crew (2015)                        93\n",
       "Mad Max: Fury Road (2015)                       97\n",
       "Spy (2015)                                      93\n",
       "Paddington (2015)                               98\n",
       "What We Do in the Shadows (2015)                96\n",
       "The Salt of the Earth (2015)                    96\n",
       "Song of the Sea (2014)                          99\n",
       "It Follows (2015)                               96\n",
       "Phoenix (2015)                                  99\n",
       "Tangerine (2015)                                95\n",
       "Mission: Impossible â€“ Rogue Nation (2015)     92\n",
       "Amy (2015)                                      97\n",
       "Inside Out (2015)                               98\n",
       "'71 (2015)                                      97\n",
       "Two Days, One Night (2014)                      97\n",
       "Gett: The Trial of Viviane Amsalem (2015)      100\n",
       "dtype: int64"
      ]
     },
     "execution_count": 10,
     "metadata": {},
     "output_type": "execute_result"
    }
   ],
   "source": [
    "series_greater_than_90 = series_custom[series_custom > 90]\n",
    "series_greater_than_90"
   ]
  },
  {
   "cell_type": "code",
   "execution_count": 11,
   "metadata": {
    "collapsed": false
   },
   "outputs": [
    {
     "data": {
      "text/plain": [
       "Unbroken (2014)                  51\n",
       "Southpaw (2015)                  59\n",
       "Insidious: Chapter 3 (2015)      59\n",
       "5 Flights Up (2015)              52\n",
       "Saint Laurent (2015)             51\n",
       "The Age of Adaline (2015)        54\n",
       "Paper Towns (2015)               55\n",
       "Maggie (2015)                    54\n",
       "Focus (2015)                     57\n",
       "Escobar: Paradise Lost (2015)    52\n",
       "Woman in Gold (2015)             52\n",
       "Minions (2015)                   54\n",
       "Spare Parts (2015)               52\n",
       "dtype: int64"
      ]
     },
     "execution_count": 11,
     "metadata": {},
     "output_type": "execute_result"
    }
   ],
   "source": [
    "criteria_one = series_custom > 50\n",
    "criteria_two = series_custom < 60\n",
    "\n",
    "both_criteria = series_custom[criteria_one & criteria_two]\n",
    "both_criteria"
   ]
  },
  {
   "cell_type": "code",
   "execution_count": 12,
   "metadata": {
    "collapsed": false
   },
   "outputs": [
    {
     "data": {
      "text/plain": [
       "Shaun the Sheep Movie (2015)                    99\n",
       "Leviathan (2014)                                99\n",
       "Taken 3 (2015)                                   9\n",
       "Selma (2014)                                    99\n",
       "Ex Machina (2015)                               92\n",
       "Wild Tales (2014)                               96\n",
       "The End of the Tour (2015)                      92\n",
       "Red Army (2015)                                 96\n",
       "The Hunting Ground (2015)                       92\n",
       "I'll See You In My Dreams (2015)                94\n",
       "Timbuktu (2015)                                 99\n",
       "About Elly (2015)                               97\n",
       "The Diary of a Teenage Girl (2015)              95\n",
       "Fantastic Four (2015)                            9\n",
       "Hot Pursuit (2015)                               8\n",
       "Birdman (2014)                                  92\n",
       "The Gift (2015)                                 93\n",
       "Monkey Kingdom (2015)                           94\n",
       "Mr. Turner (2014)                               98\n",
       "Seymour: An Introduction (2015)                100\n",
       "The Wrecking Crew (2015)                        93\n",
       "Mad Max: Fury Road (2015)                       97\n",
       "Spy (2015)                                      93\n",
       "Paddington (2015)                               98\n",
       "What We Do in the Shadows (2015)                96\n",
       "The Salt of the Earth (2015)                    96\n",
       "Song of the Sea (2014)                          99\n",
       "Hitman: Agent 47 (2015)                          7\n",
       "It Follows (2015)                               96\n",
       "Phoenix (2015)                                  99\n",
       "Tangerine (2015)                                95\n",
       "Mission: Impossible â€“ Rogue Nation (2015)     92\n",
       "Amy (2015)                                      97\n",
       "Paul Blart: Mall Cop 2 (2015)                    5\n",
       "Inside Out (2015)                               98\n",
       "'71 (2015)                                      97\n",
       "Two Days, One Night (2014)                      97\n",
       "Gett: The Trial of Viviane Amsalem (2015)      100\n",
       "dtype: int64"
      ]
     },
     "execution_count": 12,
     "metadata": {},
     "output_type": "execute_result"
    }
   ],
   "source": [
    "criteria_one = series_custom < 10\n",
    "criteria_two = series_custom > 90\n",
    "\n",
    "both_criteria = series_custom[criteria_one | criteria_two]\n",
    "both_criteria"
   ]
  },
  {
   "cell_type": "markdown",
   "metadata": {},
   "source": [
    "### All together"
   ]
  },
  {
   "cell_type": "code",
   "execution_count": 13,
   "metadata": {
    "collapsed": false
   },
   "outputs": [
    {
     "data": {
      "text/plain": [
       "FILM\n",
       "Avengers: Age of Ultron (2015)                    80.0\n",
       "Cinderella (2015)                                 82.5\n",
       "Ant-Man (2015)                                    85.0\n",
       "Do You Believe? (2015)                            51.0\n",
       "Hot Tub Time Machine 2 (2015)                     21.0\n",
       "The Water Diviner (2015)                          62.5\n",
       "Irrational Man (2015)                             47.5\n",
       "Top Five (2014)                                   75.0\n",
       "Shaun the Sheep Movie (2015)                      90.5\n",
       "Love & Mercy (2015)                               88.0\n",
       "Far From The Madding Crowd (2015)                 80.5\n",
       "Black Sea (2015)                                  71.0\n",
       "Leviathan (2014)                                  89.0\n",
       "Unbroken (2014)                                   60.5\n",
       "The Imitation Game (2014)                         91.0\n",
       "Taken 3 (2015)                                    27.5\n",
       "Ted 2 (2015)                                      52.0\n",
       "Southpaw (2015)                                   69.5\n",
       "Night at the Museum: Secret of the Tomb (2014)    54.0\n",
       "Pixels (2015)                                     35.5\n",
       "McFarland, USA (2015)                             84.0\n",
       "Insidious: Chapter 3 (2015)                       57.5\n",
       "The Man From U.N.C.L.E. (2015)                    74.0\n",
       "Run All Night (2015)                              59.5\n",
       "Trainwreck (2015)                                 79.5\n",
       "Selma (2014)                                      92.5\n",
       "Ex Machina (2015)                                 89.0\n",
       "Still Alice (2015)                                86.5\n",
       "Wild Tales (2014)                                 94.0\n",
       "The End of the Tour (2015)                        90.5\n",
       "                                                  ... \n",
       "Clouds of Sils Maria (2015)                       78.0\n",
       "Testament of Youth (2015)                         80.0\n",
       "Infinitely Polar Bear (2015)                      78.0\n",
       "Phoenix (2015)                                    90.0\n",
       "The Wolfpack (2015)                               78.5\n",
       "The Stanford Prison Experiment (2015)             85.5\n",
       "Tangerine (2015)                                  90.5\n",
       "Magic Mike XXL (2015)                             63.0\n",
       "Home (2015)                                       55.0\n",
       "The Wedding Ringer (2015)                         46.5\n",
       "Woman in Gold (2015)                              66.5\n",
       "The Last Five Years (2015)                        60.0\n",
       "Mission: Impossible â€“ Rogue Nation (2015)       91.0\n",
       "Amy (2015)                                        94.0\n",
       "Jurassic World (2015)                             76.0\n",
       "Minions (2015)                                    53.0\n",
       "Max (2015)                                        54.0\n",
       "Paul Blart: Mall Cop 2 (2015)                     20.5\n",
       "The Longest Ride (2015)                           52.0\n",
       "The Lazarus Effect (2015)                         18.5\n",
       "The Woman In Black 2 Angel of Death (2015)        23.5\n",
       "Danny Collins (2015)                              76.0\n",
       "Spare Parts (2015)                                67.5\n",
       "Serena (2015)                                     21.5\n",
       "Inside Out (2015)                                 94.0\n",
       "Mr. Holmes (2015)                                 82.5\n",
       "'71 (2015)                                        89.5\n",
       "Two Days, One Night (2014)                        87.5\n",
       "Gett: The Trial of Viviane Amsalem (2015)         90.5\n",
       "Kumiko, The Treasure Hunter (2015)                75.0\n",
       "dtype: float64"
      ]
     },
     "execution_count": 13,
     "metadata": {},
     "output_type": "execute_result"
    }
   ],
   "source": [
    "# Creating Series objects containing the average ratings from critics and users for each film. \n",
    "rt_critics = pd.Series(fandango_df['RottenTomatoes'].values, index=fandango_df['FILM']) \n",
    "rt_users = pd.Series(fandango_df['RottenTomatoes_User'].values, index=fandango_df['FILM'])\n",
    "\n",
    "\n",
    "# Calculating mean of both ratings using vectorized operations and Series object\n",
    "rt_mean = pd.Series((rt_critics+rt_users)/2, index=fandango_df['FILM'])\n",
    "rt_mean"
   ]
  },
  {
   "cell_type": "markdown",
   "metadata": {},
   "source": [
    "# DataFrames"
   ]
  },
  {
   "cell_type": "code",
   "execution_count": 16,
   "metadata": {
    "collapsed": false
   },
   "outputs": [],
   "source": [
    "fandango_films = fandango_df.set_index(fandango_df[\"FILM\"],drop=False)"
   ]
  },
  {
   "cell_type": "code",
   "execution_count": 18,
   "metadata": {
    "collapsed": false
   },
   "outputs": [
    {
     "name": "stdout",
     "output_type": "stream",
     "text": [
      "Metacritic_User               1.505529\n",
      "IMDB                          0.955447\n",
      "Fandango_Stars                0.538532\n",
      "Fandango_Ratingvalue          0.501106\n",
      "RT_norm                       1.503265\n",
      "RT_user_norm                  0.997787\n",
      "Metacritic_norm               0.972522\n",
      "Metacritic_user_nom           0.752765\n",
      "IMDB_norm                     0.477723\n",
      "RT_norm_round                 1.509404\n",
      "RT_user_norm_round            1.003559\n",
      "Metacritic_norm_round         0.987561\n",
      "Metacritic_user_norm_round    0.785412\n",
      "IMDB_norm_round               0.501043\n",
      "Fandango_Difference           0.152141\n",
      "dtype: float64\n"
     ]
    }
   ],
   "source": [
    "import numpy as np\n",
    "\n",
    "# returns the data types as a Series\n",
    "types = fandango_films.dtypes\n",
    "# filter data types to just floats, index attributes returns just column names\n",
    "float_columns = types[types.values == 'float64'].index\n",
    "# use bracket notation to filter columns to just float columns\n",
    "float_df = fandango_films[float_columns]\n",
    "\n",
    "# `x` is a Series object representing a column\n",
    "deviations = float_df.apply(lambda x: np.std(x))\n",
    "\n",
    "print(deviations)"
   ]
  },
  {
   "cell_type": "markdown",
   "metadata": {},
   "source": [
    "`apply()` method for rows"
   ]
  },
  {
   "cell_type": "code",
   "execution_count": 19,
   "metadata": {
    "collapsed": false
   },
   "outputs": [
    {
     "name": "stdout",
     "output_type": "stream",
     "text": [
      "FILM\n",
      "Avengers: Age of Ultron (2015)    0.375\n",
      "Cinderella (2015)                 0.125\n",
      "Ant-Man (2015)                    0.225\n",
      "Do You Believe? (2015)            0.925\n",
      "Hot Tub Time Machine 2 (2015)     0.150\n",
      "dtype: float64\n",
      "FILM\n",
      "Avengers: Age of Ultron (2015)    3.925\n",
      "Cinderella (2015)                 3.875\n",
      "Ant-Man (2015)                    4.275\n",
      "Do You Believe? (2015)            3.275\n",
      "Hot Tub Time Machine 2 (2015)     1.550\n",
      "dtype: float64\n"
     ]
    }
   ],
   "source": [
    "rt_mt_user = float_df[['RT_user_norm', 'Metacritic_user_nom']]\n",
    "rt_mt_deviations = rt_mt_user.apply(lambda x: np.std(x), axis=1)\n",
    "print(rt_mt_deviations[0:5])\n",
    "\n",
    "rt_mt_means = rt_mt_user.apply(lambda x: np.mean(x),axis=1)\n",
    "print(rt_mt_means.head(5))"
   ]
  },
  {
   "cell_type": "code",
   "execution_count": null,
   "metadata": {
    "collapsed": true
   },
   "outputs": [],
   "source": []
  }
 ],
 "metadata": {
  "kernelspec": {
   "display_name": "Python 3",
   "language": "python",
   "name": "python3"
  },
  "language_info": {
   "codemirror_mode": {
    "name": "ipython",
    "version": 3
   },
   "file_extension": ".py",
   "mimetype": "text/x-python",
   "name": "python",
   "nbconvert_exporter": "python",
   "pygments_lexer": "ipython3",
   "version": "3.6.0"
  }
 },
 "nbformat": 4,
 "nbformat_minor": 2
}
